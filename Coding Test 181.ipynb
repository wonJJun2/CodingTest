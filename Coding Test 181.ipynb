{
 "cells": [
  {
   "cell_type": "code",
   "execution_count": null,
   "metadata": {},
   "outputs": [],
   "source": [
    "num = []\n",
    "n = int(input())\n",
    "for i in range(n):\n",
    "\tx, y = map(int,input().split())\n",
    "\tnum.append((x,y))\n",
    "\n",
    "num.sort(key = lambda x : (x[1], x[0]))\n",
    "\n",
    "for j in num:\n",
    "\tprint(j[0], j[1])"
   ]
  }
 ],
 "metadata": {
  "language_info": {
   "name": "python"
  },
  "orig_nbformat": 4
 },
 "nbformat": 4,
 "nbformat_minor": 2
}
