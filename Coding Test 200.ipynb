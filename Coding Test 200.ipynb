{
 "cells": [
  {
   "cell_type": "code",
   "execution_count": null,
   "metadata": {},
   "outputs": [],
   "source": [
    "n = int(input())\n",
    "cnt = 0\n",
    "number = 666\n",
    "while True:\n",
    "    if '666' in str(number):\n",
    "        cnt += 1\n",
    "    if cnt == n:\n",
    "        print(number)\n",
    "        break\n",
    "    number += 1"
   ]
  }
 ],
 "metadata": {
  "language_info": {
   "name": "python"
  },
  "orig_nbformat": 4
 },
 "nbformat": 4,
 "nbformat_minor": 2
}
