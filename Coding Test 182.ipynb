{
 "cells": [
  {
   "cell_type": "code",
   "execution_count": null,
   "metadata": {},
   "outputs": [],
   "source": [
    "num = int(input())\n",
    "word_lists = []\n",
    "\n",
    "for _ in range(num):\n",
    "    word = str(input())\n",
    "    word_count = len(word)\n",
    "    word_lists.append((word, word_count))\n",
    "    \n",
    "word_list = list(set(word_lists))\n",
    "word_list.sort(key = lambda word: (word[1], word[0]))\n",
    "\n",
    "for i in word_list:\n",
    "    print(i[0])"
   ]
  }
 ],
 "metadata": {
  "language_info": {
   "name": "python"
  },
  "orig_nbformat": 4
 },
 "nbformat": 4,
 "nbformat_minor": 2
}
