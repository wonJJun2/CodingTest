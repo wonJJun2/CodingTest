n = int(input())
num = list(map(int,str(n)))
  
num.sort(reverse=True)
 
for i in num:
    print(i,end='')