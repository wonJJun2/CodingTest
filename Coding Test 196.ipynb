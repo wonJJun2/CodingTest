{
 "cells": [
  {
   "cell_type": "code",
   "execution_count": null,
   "metadata": {},
   "outputs": [],
   "source": [
    "n=int(input())\n",
    "t=[]\n",
    "for i in range(n):\n",
    "    a,b = map(int,input().split())\n",
    "    t.append((a,b))  \n",
    "t.sort()\n",
    "for i in range(n):\n",
    "    print(t[i][0],t[i][1])"
   ]
  }
 ],
 "metadata": {
  "language_info": {
   "name": "python"
  },
  "orig_nbformat": 4
 },
 "nbformat": 4,
 "nbformat_minor": 2
}
