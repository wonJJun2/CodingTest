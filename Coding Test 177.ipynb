{
 "cells": [
  {
   "cell_type": "code",
   "execution_count": null,
   "metadata": {},
   "outputs": [],
   "source": [
    "def solution(nums):\n",
    "    cnt = len(set(nums))\n",
    "    if len(nums) // 2 > cnt:\n",
    "        return cnt\n",
    "    else:\n",
    "        return len(nums) // 2"
   ]
  }
 ],
 "metadata": {
  "language_info": {
   "name": "python"
  },
  "orig_nbformat": 4
 },
 "nbformat": 4,
 "nbformat_minor": 2
}
