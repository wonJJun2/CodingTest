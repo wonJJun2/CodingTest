{
 "cells": [
  {
   "cell_type": "code",
   "execution_count": null,
   "metadata": {},
   "outputs": [],
   "source": [
    "def solution(s, n):\n",
    "    answer = list(s)\n",
    "    for i in range(len(answer)):\n",
    "        if answer[i].isupper():\n",
    "            answer[i] = chr((ord(answer[i]) - ord('A') + n) % 26 + ord('A'))\n",
    "        elif answer[i].islower():\n",
    "            answer[i] = chr((ord(answer[i]) - ord('a') + n) % 26 + ord('a'))\n",
    "    return \"\".join(answer)"
   ]
  }
 ],
 "metadata": {
  "language_info": {
   "name": "python"
  },
  "orig_nbformat": 4
 },
 "nbformat": 4,
 "nbformat_minor": 2
}
