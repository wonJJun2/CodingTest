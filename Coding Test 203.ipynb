{
 "cells": [
  {
   "cell_type": "code",
   "execution_count": null,
   "metadata": {},
   "outputs": [],
   "source": [
    "s = [i for i in range(1,31)]\n",
    "\n",
    "for _ in range(28):\n",
    "    applied = int(input())\n",
    "    s.remove(applied) #소거\n",
    "\n",
    "print(min(s))\n",
    "print(max(s))"
   ]
  }
 ],
 "metadata": {
  "language_info": {
   "name": "python"
  },
  "orig_nbformat": 4
 },
 "nbformat": 4,
 "nbformat_minor": 2
}
