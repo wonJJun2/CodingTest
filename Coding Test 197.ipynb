{
 "cells": [
  {
   "cell_type": "code",
   "execution_count": null,
   "metadata": {},
   "outputs": [],
   "source": [
    "n = int(input())\n",
    "li = []\n",
    "for i in range(n):\n",
    "    number = int(input())\n",
    "    if number == 0:\n",
    "        li.pop()\n",
    "    else:\n",
    "        li.append(number)\n",
    "print(sum(li))"
   ]
  }
 ],
 "metadata": {
  "language_info": {
   "name": "python"
  },
  "orig_nbformat": 4
 },
 "nbformat": 4,
 "nbformat_minor": 2
}
