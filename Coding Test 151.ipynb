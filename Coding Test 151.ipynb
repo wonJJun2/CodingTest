{
 "cells": [
  {
   "cell_type": "code",
   "execution_count": null,
   "metadata": {},
   "outputs": [],
   "source": [
    "def solution(price, money, count):\n",
    "    total = 0\n",
    "    for i in range(1,count+1):\n",
    "        total += price*i\n",
    "        if total > money:\n",
    "            answer = total - money\n",
    "        elif money >= total:\n",
    "            answer = 0\n",
    "    return answer"
   ]
  }
 ],
 "metadata": {
  "language_info": {
   "name": "python"
  },
  "orig_nbformat": 4
 },
 "nbformat": 4,
 "nbformat_minor": 2
}
