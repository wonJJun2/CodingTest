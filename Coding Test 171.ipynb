{
 "cells": [
  {
   "cell_type": "code",
   "execution_count": null,
   "metadata": {},
   "outputs": [],
   "source": [
    "import re\n",
    "def solution(new_id):\n",
    "    answer = new_id.lower()\n",
    "    answer = re.sub('[^a-z\\d\\-\\_\\.]', '', answer)\n",
    "    answer = re.sub('\\.\\.+', '.', answer)\n",
    "    answer = re.sub('^\\.|\\.$', '', answer)\n",
    "    if answer == '':\n",
    "        answer = 'a'\n",
    "    answer = re.sub('\\.$', '', answer[0:15])\n",
    "    while len(answer) < 3:\n",
    "        answer += answer[-1:]\n",
    "    return answer"
   ]
  }
 ],
 "metadata": {
  "language_info": {
   "name": "python"
  },
  "orig_nbformat": 4
 },
 "nbformat": 4,
 "nbformat_minor": 2
}
