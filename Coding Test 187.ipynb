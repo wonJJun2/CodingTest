{
 "cells": [
  {
   "cell_type": "code",
   "execution_count": null,
   "metadata": {},
   "outputs": [],
   "source": [
    "import sys\n",
    "\n",
    "n = int(input()) \n",
    "\n",
    "num_list = [0] * 10001 \n",
    "\n",
    "for i in range(n): \n",
    "    num = int(sys.stdin.readline()) \n",
    "    num_list[num] += 1 \n",
    "    \n",
    "for i in range(10001): \n",
    "    if num_list[i] != 0:\n",
    "        for j in range(num_list[i]):\n",
    "            print(i)"
   ]
  }
 ],
 "metadata": {
  "language_info": {
   "name": "python"
  },
  "orig_nbformat": 4
 },
 "nbformat": 4,
 "nbformat_minor": 2
}
