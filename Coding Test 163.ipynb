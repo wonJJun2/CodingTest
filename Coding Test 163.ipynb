{
 "cells": [
  {
   "cell_type": "code",
   "execution_count": null,
   "metadata": {},
   "outputs": [],
   "source": [
    "def solution(s):\n",
    "    answer = ''\n",
    "    new_list = s.split(' ')\n",
    "    for i in new_list:\n",
    "        for j in range(len(i)):\n",
    "            if j % 2 == 0:\n",
    "                answer += i[j].upper()\n",
    "            else:\n",
    "                answer += i[j].lower()\n",
    "        answer+= ' '\n",
    "    return answer[0:-1]"
   ]
  }
 ],
 "metadata": {
  "language_info": {
   "name": "python"
  },
  "orig_nbformat": 4
 },
 "nbformat": 4,
 "nbformat_minor": 2
}
