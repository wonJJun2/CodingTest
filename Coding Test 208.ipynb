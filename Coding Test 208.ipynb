{
 "cells": [
  {
   "cell_type": "code",
   "execution_count": null,
   "metadata": {},
   "outputs": [],
   "source": [
    "import itertools\n",
    "\n",
    "n, m = map(int, input().split())\n",
    "nums = [i for i in range(1, n+1)]\n",
    "\n",
    "array = itertools.permutations(nums, m)\n",
    "\n",
    "for i in array:\n",
    "    for j in i:\n",
    "        print(j, end = ' ')\n",
    "    print()"
   ]
  },
  {
   "cell_type": "code",
   "execution_count": null,
   "metadata": {},
   "outputs": [],
   "source": [
    "import itertools\n",
    "\n",
    "n,m=map(int,input().split())\n",
    "arr = list(itertools.combinations([i for i in range(1,n+1)],m))\n",
    "\n",
    "for i in arr:\n",
    "    answer=\"\"\n",
    "    for j in i:\n",
    "        answer+=str(j)\n",
    "        answer+=\" \"\n",
    "    print(answer)"
   ]
  },
  {
   "cell_type": "code",
   "execution_count": null,
   "metadata": {},
   "outputs": [],
   "source": [
    "n,m= map(int,input().split())\n",
    " \n",
    "s = []\n",
    " \n",
    "def dfs():\n",
    "    if len(s)==m:\n",
    "        print(' '.join(map(str,s)))\n",
    "        return\n",
    "    \n",
    "    for i in range(1,n+1):\n",
    "        s.append(i)\n",
    "        dfs()\n",
    "        s.pop()\n",
    "dfs()"
   ]
  }
 ],
 "metadata": {
  "language_info": {
   "name": "python"
  },
  "orig_nbformat": 4
 },
 "nbformat": 4,
 "nbformat_minor": 2
}
