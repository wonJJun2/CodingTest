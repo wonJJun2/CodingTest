{
 "cells": [
  {
   "cell_type": "code",
   "execution_count": null,
   "metadata": {},
   "outputs": [],
   "source": [
    "def solution(sizes):\n",
    "    w, h = 0, 0\n",
    "    for i, j in sizes:\n",
    "        if i < j:\n",
    "            i, j = j, i\n",
    "        w = max(w, i)\n",
    "        h = max(h, j)\n",
    "    return w * h"
   ]
  }
 ],
 "metadata": {
  "language_info": {
   "name": "python"
  },
  "orig_nbformat": 4
 },
 "nbformat": 4,
 "nbformat_minor": 2
}
