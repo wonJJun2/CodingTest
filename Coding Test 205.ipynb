{
 "cells": [
  {
   "cell_type": "code",
   "execution_count": null,
   "metadata": {},
   "outputs": [],
   "source": [
    "n = int(input())\n",
    "list = list(map(int, input().split()))\n",
    "v = int(input())\n",
    "\n",
    "print(list.count(v))"
   ]
  }
 ],
 "metadata": {
  "language_info": {
   "name": "python"
  },
  "orig_nbformat": 4
 },
 "nbformat": 4,
 "nbformat_minor": 2
}
