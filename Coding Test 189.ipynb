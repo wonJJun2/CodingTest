{
 "cells": [
  {
   "cell_type": "code",
   "execution_count": null,
   "metadata": {},
   "outputs": [],
   "source": [
    "H, M = map(int, input().split())\n",
    "time = int(input()) \n",
    "\n",
    "H += time // 60\n",
    "M += time % 60\n",
    "\n",
    "if M >= 60:\n",
    "    H += 1\n",
    "    M -= 60\n",
    "if H >= 24:\n",
    "    H -= 24\n",
    "\n",
    "print(H,M)"
   ]
  }
 ],
 "metadata": {
  "language_info": {
   "name": "python"
  },
  "orig_nbformat": 4
 },
 "nbformat": 4,
 "nbformat_minor": 2
}
