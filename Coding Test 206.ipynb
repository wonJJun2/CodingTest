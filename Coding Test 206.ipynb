{
 "cells": [
  {
   "cell_type": "code",
   "execution_count": null,
   "metadata": {},
   "outputs": [],
   "source": [
    "n = []\n",
    "for i in range(5):\n",
    "    n.append(int(input()))\n",
    "n.sort()\n",
    "print(int(sum(n)/5))\n",
    "print(n[2])"
   ]
  }
 ],
 "metadata": {
  "language_info": {
   "name": "python"
  },
  "orig_nbformat": 4
 },
 "nbformat": 4,
 "nbformat_minor": 2
}
