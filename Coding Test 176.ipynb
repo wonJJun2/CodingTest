{
 "cells": [
  {
   "cell_type": "code",
   "execution_count": null,
   "metadata": {},
   "outputs": [],
   "source": [
    "def solution(n):\n",
    "    answer = ''\n",
    "    while n > 0:\t\t\t\n",
    "        n, i = divmod(n,3)\t\n",
    "        answer += str(i)\n",
    "    return int(answer, 3)"
   ]
  }
 ],
 "metadata": {
  "language_info": {
   "name": "python"
  },
  "orig_nbformat": 4
 },
 "nbformat": 4,
 "nbformat_minor": 2
}
