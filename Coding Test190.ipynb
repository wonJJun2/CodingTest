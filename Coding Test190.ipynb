{
 "cells": [
  {
   "cell_type": "code",
   "execution_count": null,
   "metadata": {},
   "outputs": [],
   "source": [
    "s = input()\n",
    "t = set()\n",
    "\n",
    "for i in range(len(s)):\n",
    "    for j in range(i,len(s)):\n",
    "        t.add(s[i:j+1])\n",
    "        \n",
    "print(len(t))"
   ]
  }
 ],
 "metadata": {
  "language_info": {
   "name": "python"
  },
  "orig_nbformat": 4
 },
 "nbformat": 4,
 "nbformat_minor": 2
}
