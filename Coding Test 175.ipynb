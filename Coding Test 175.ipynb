{
 "cells": [
  {
   "cell_type": "code",
   "execution_count": null,
   "metadata": {},
   "outputs": [],
   "source": [
    "def solution(a, b):\n",
    "    week = ('FRI','SAT','SUN','MON','TUE','WED','THU')\n",
    "    day = (31,29,31,30,31,30,31,31,30,31,30,31)\n",
    "    date = sum(day[:a-1]) + b -1\n",
    "    answer = week[date % 7]\n",
    "    return answer"
   ]
  },
  {
   "cell_type": "code",
   "execution_count": null,
   "metadata": {},
   "outputs": [],
   "source": [
    "import datetime\n",
    "\n",
    "def solution(a, b):\n",
    "    day = 'MON TUE WED THU FRI SAT SUN'.split()\n",
    "    return day[datetime.datetime(2016, a, b).weekday()]"
   ]
  }
 ],
 "metadata": {
  "language_info": {
   "name": "python"
  },
  "orig_nbformat": 4
 },
 "nbformat": 4,
 "nbformat_minor": 2
}
