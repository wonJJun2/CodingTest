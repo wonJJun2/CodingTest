{
 "cells": [
  {
   "cell_type": "code",
   "execution_count": null,
   "metadata": {},
   "outputs": [],
   "source": [
    "a, b = map(int, input().split())\n",
    "\n",
    "while (a, b) != (0, 0):\n",
    "    if a % b == 0:\n",
    "        print(\"multiple\")\n",
    "    elif b % a == 0:\n",
    "        print(\"factor\")\n",
    "    else:\n",
    "        print(\"neither\")\n",
    "    \n",
    "    a, b = map(int, input().split())"
   ]
  }
 ],
 "metadata": {
  "language_info": {
   "name": "python"
  },
  "orig_nbformat": 4
 },
 "nbformat": 4,
 "nbformat_minor": 2
}
