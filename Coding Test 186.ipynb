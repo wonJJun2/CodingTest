{
 "cells": [
  {
   "cell_type": "code",
   "execution_count": null,
   "metadata": {},
   "outputs": [],
   "source": [
    "n = int(input())\n",
    "\n",
    "member = []\n",
    "for _ in range(n):\n",
    "    (a,b) = input().split()\n",
    "    member.append((int(a),b))\n",
    "\n",
    "\n",
    "member_list = sorted(member,key=lambda x: x[0])\n",
    "\n",
    "for i in member_list:\n",
    "    print(i[0], i[1])"
   ]
  }
 ],
 "metadata": {
  "language_info": {
   "name": "python"
  },
  "orig_nbformat": 4
 },
 "nbformat": 4,
 "nbformat_minor": 2
}
