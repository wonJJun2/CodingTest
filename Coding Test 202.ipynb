{
 "cells": [
  {
   "cell_type": "code",
   "execution_count": null,
   "metadata": {},
   "outputs": [],
   "source": [
    "def solution(nums,k):\n",
    "    nums.sort(reverse=True)\n",
    "    print(nums[k - 1])\n",
    " \n",
    "n,k=map(int, input().split())\n",
    "nums=list(map(int, input().split()))\n",
    "solution(nums,k)"
   ]
  }
 ],
 "metadata": {
  "language_info": {
   "name": "python"
  },
  "orig_nbformat": 4
 },
 "nbformat": 4,
 "nbformat_minor": 2
}
