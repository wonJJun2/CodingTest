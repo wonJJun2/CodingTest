{
 "cells": [
  {
   "cell_type": "code",
   "execution_count": null,
   "metadata": {},
   "outputs": [],
   "source": [
    "import sys\n",
    "from collections import Counter\n",
    "\n",
    "n = int(sys.stdin.readline())\n",
    "num_list = []\n",
    "\n",
    "for i in range(n):\n",
    "    num_list.append(int(sys.stdin.readline()))    \n",
    "num_list.sort()\n",
    "most_num = Counter(num_list).most_common() # 최빈값 찾기\n",
    "print(round(sum(num_list) / n))\n",
    "print(num_list[n // 2])\n",
    "if len(most_num) > 1:\n",
    "    if most_num[0][1] == most_num[1][1]:\n",
    "        print(most_num[1][0])\n",
    "    else:\n",
    "        print(most_num[0][0])\n",
    "else:\n",
    "    print(most_num[0][0])\n",
    "print(num_list[-1] - num_list[0])"
   ]
  }
 ],
 "metadata": {
  "language_info": {
   "name": "python"
  },
  "orig_nbformat": 4
 },
 "nbformat": 4,
 "nbformat_minor": 2
}
