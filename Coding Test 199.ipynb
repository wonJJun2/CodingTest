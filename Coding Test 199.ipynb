{
 "cells": [
  {
   "cell_type": "code",
   "execution_count": null,
   "metadata": {},
   "outputs": [],
   "source": [
    "num = int(input())\n",
    "student = []\n",
    "\n",
    "for _ in range(num):\n",
    "    w, h = map(int, input().split())\n",
    "    student.append((w, h))\n",
    "\n",
    "for i in student:\n",
    "    rank = 1\n",
    "    for j in student:\n",
    "        if i[0] < j[0] and i[1] < j[1]:\n",
    "                rank += 1\n",
    "    print(rank, end = \" \")"
   ]
  }
 ],
 "metadata": {
  "language_info": {
   "name": "python"
  },
  "orig_nbformat": 4
 },
 "nbformat": 4,
 "nbformat_minor": 2
}
