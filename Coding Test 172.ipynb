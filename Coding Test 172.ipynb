{
 "cells": [
  {
   "cell_type": "code",
   "execution_count": null,
   "metadata": {},
   "outputs": [],
   "source": [
    "def solution(n, lost, reserve):\n",
    "    set_reserve = set(reserve)-set(lost) \n",
    "    set_lost = set(lost)-set(reserve) \n",
    "    for i in set_reserve: \n",
    "        if i-1 in set_lost: \n",
    "            set_lost.remove(i-1) \n",
    "        elif i+1 in set_lost: \n",
    "            set_lost.remove(i+1) \n",
    "    \n",
    "    return n-len(set_lost)"
   ]
  }
 ],
 "metadata": {
  "language_info": {
   "name": "python"
  },
  "orig_nbformat": 4
 },
 "nbformat": 4,
 "nbformat_minor": 2
}
