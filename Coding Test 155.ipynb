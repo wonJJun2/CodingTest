{
 "cells": [
  {
   "cell_type": "code",
   "execution_count": null,
   "metadata": {},
   "outputs": [],
   "source": [
    "def solution(seoul):\n",
    "    idx = seoul.index(\"Kim\")\n",
    "    answer = \"김서방은 \"+ str(idx)+\"에 있다\"\n",
    "    return answer"
   ]
  }
 ],
 "metadata": {
  "language_info": {
   "name": "python"
  },
  "orig_nbformat": 4
 },
 "nbformat": 4,
 "nbformat_minor": 2
}
