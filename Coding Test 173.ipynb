{
 "cells": [
  {
   "cell_type": "code",
   "execution_count": null,
   "metadata": {},
   "outputs": [],
   "source": [
    "def solution(lottos, win_nums):\n",
    "    rank = [6,6,5,4,3,2,1]\n",
    "    cnt = lottos.count(0)\n",
    "    answer = 0\n",
    "    for i in win_nums:\n",
    "        if i in lottos:\n",
    "            answer += 1\n",
    "    return rank[cnt + answer], rank[answer]"
   ]
  }
 ],
 "metadata": {
  "language_info": {
   "name": "python"
  },
  "orig_nbformat": 4
 },
 "nbformat": 4,
 "nbformat_minor": 2
}
